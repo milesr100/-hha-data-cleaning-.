{
 "cells": [
  {
   "cell_type": "code",
   "execution_count": 2,
   "metadata": {},
   "outputs": [
    {
     "name": "stdout",
     "output_type": "stream",
     "text": [
      "hello world\n"
     ]
    }
   ],
   "source": [
    "print (\"hello world\")\n"
   ]
  },
  {
   "cell_type": "markdown",
   "metadata": {},
   "source": [
    "1."
   ]
  },
  {
   "cell_type": "markdown",
   "metadata": {},
   "source": [
    "Importing all packages/data that will be used "
   ]
  },
  {
   "cell_type": "code",
   "execution_count": 47,
   "metadata": {},
   "outputs": [],
   "source": [
    "import pandas as pd #importing pandas\n",
    "import numpy as np #importing numpy\n",
    "import json #importing json (wasn't used)\n",
    "from skimpy import clean_columns #importing a tool from skimpy to clean data more effeciently\n",
    "slm = pd.read_csv('data/School_Learning_Modalities.csv') #labeling the df read by pandas as slm (School Learning....)"
   ]
  },
  {
   "cell_type": "code",
   "execution_count": 14,
   "metadata": {},
   "outputs": [
    {
     "name": "stdout",
     "output_type": "stream",
     "text": [
      "Collecting skimpy\n",
      "  Downloading skimpy-0.0.6-py3-none-any.whl (15 kB)\n",
      "Requirement already satisfied: Pygments<3.0.0,>=2.10.0 in /Users/miles/opt/anaconda3/lib/python3.9/site-packages (from skimpy) (2.11.2)\n",
      "Collecting click<9.0.0,>=8.1.3\n",
      "  Downloading click-8.1.3-py3-none-any.whl (96 kB)\n",
      "\u001b[K     |████████████████████████████████| 96 kB 709 kB/s eta 0:00:01\n",
      "\u001b[?25hCollecting numpy<2.0.0,>=1.22.2\n",
      "  Downloading numpy-1.23.2-cp39-cp39-macosx_10_9_x86_64.whl (18.1 MB)\n",
      "\u001b[K     |████████████████████████████████| 18.1 MB 3.2 MB/s eta 0:00:01\n",
      "\u001b[?25hCollecting rich<13.0,>=10.9\n",
      "  Downloading rich-12.5.1-py3-none-any.whl (235 kB)\n",
      "\u001b[K     |████████████████████████████████| 235 kB 3.6 MB/s eta 0:00:01\n",
      "\u001b[?25hCollecting black<23.0.0,>=22.3.0\n",
      "  Downloading black-22.8.0-cp39-cp39-macosx_10_9_x86_64.whl (1.4 MB)\n",
      "\u001b[K     |████████████████████████████████| 1.4 MB 2.9 MB/s eta 0:00:01\n",
      "\u001b[?25hRequirement already satisfied: ipykernel<7.0.0,>=6.7.0 in /Users/miles/opt/anaconda3/lib/python3.9/site-packages (from skimpy) (6.9.1)\n",
      "Collecting typeguard<3.0.0,>=2.12.1\n",
      "  Downloading typeguard-2.13.3-py3-none-any.whl (17 kB)\n",
      "Requirement already satisfied: pandas<2.0.0,>=1.3.2 in /Users/miles/opt/anaconda3/lib/python3.9/site-packages (from skimpy) (1.4.2)\n",
      "Requirement already satisfied: jupyter<2.0.0,>=1.0.0 in /Users/miles/opt/anaconda3/lib/python3.9/site-packages (from skimpy) (1.0.0)\n",
      "Requirement already satisfied: typing-extensions>=3.10.0.0 in /Users/miles/opt/anaconda3/lib/python3.9/site-packages (from black<23.0.0,>=22.3.0->skimpy) (4.1.1)\n",
      "Collecting platformdirs>=2\n",
      "  Downloading platformdirs-2.5.2-py3-none-any.whl (14 kB)\n",
      "Requirement already satisfied: mypy-extensions>=0.4.3 in /Users/miles/opt/anaconda3/lib/python3.9/site-packages (from black<23.0.0,>=22.3.0->skimpy) (0.4.3)\n",
      "Collecting pathspec>=0.9.0\n",
      "  Downloading pathspec-0.10.1-py3-none-any.whl (27 kB)\n",
      "Requirement already satisfied: tomli>=1.1.0 in /Users/miles/opt/anaconda3/lib/python3.9/site-packages (from black<23.0.0,>=22.3.0->skimpy) (1.2.2)\n",
      "Requirement already satisfied: tornado<7.0,>=4.2 in /Users/miles/opt/anaconda3/lib/python3.9/site-packages (from ipykernel<7.0.0,>=6.7.0->skimpy) (6.1)\n",
      "Requirement already satisfied: ipython>=7.23.1 in /Users/miles/opt/anaconda3/lib/python3.9/site-packages (from ipykernel<7.0.0,>=6.7.0->skimpy) (8.2.0)\n",
      "Requirement already satisfied: nest-asyncio in /Users/miles/opt/anaconda3/lib/python3.9/site-packages (from ipykernel<7.0.0,>=6.7.0->skimpy) (1.5.5)\n",
      "Requirement already satisfied: debugpy<2.0,>=1.0.0 in /Users/miles/opt/anaconda3/lib/python3.9/site-packages (from ipykernel<7.0.0,>=6.7.0->skimpy) (1.5.1)\n",
      "Requirement already satisfied: jupyter-client<8.0 in /Users/miles/opt/anaconda3/lib/python3.9/site-packages (from ipykernel<7.0.0,>=6.7.0->skimpy) (6.1.12)\n",
      "Requirement already satisfied: appnope in /Users/miles/opt/anaconda3/lib/python3.9/site-packages (from ipykernel<7.0.0,>=6.7.0->skimpy) (0.1.2)\n",
      "Requirement already satisfied: traitlets<6.0,>=5.1.0 in /Users/miles/opt/anaconda3/lib/python3.9/site-packages (from ipykernel<7.0.0,>=6.7.0->skimpy) (5.1.1)\n",
      "Requirement already satisfied: matplotlib-inline<0.2.0,>=0.1.0 in /Users/miles/opt/anaconda3/lib/python3.9/site-packages (from ipykernel<7.0.0,>=6.7.0->skimpy) (0.1.2)\n",
      "Requirement already satisfied: decorator in /Users/miles/opt/anaconda3/lib/python3.9/site-packages (from ipython>=7.23.1->ipykernel<7.0.0,>=6.7.0->skimpy) (5.1.1)\n",
      "Requirement already satisfied: stack-data in /Users/miles/opt/anaconda3/lib/python3.9/site-packages (from ipython>=7.23.1->ipykernel<7.0.0,>=6.7.0->skimpy) (0.2.0)\n",
      "Requirement already satisfied: jedi>=0.16 in /Users/miles/opt/anaconda3/lib/python3.9/site-packages (from ipython>=7.23.1->ipykernel<7.0.0,>=6.7.0->skimpy) (0.18.1)\n",
      "Requirement already satisfied: pexpect>4.3 in /Users/miles/opt/anaconda3/lib/python3.9/site-packages (from ipython>=7.23.1->ipykernel<7.0.0,>=6.7.0->skimpy) (4.8.0)\n",
      "Requirement already satisfied: prompt-toolkit!=3.0.0,!=3.0.1,<3.1.0,>=2.0.0 in /Users/miles/opt/anaconda3/lib/python3.9/site-packages (from ipython>=7.23.1->ipykernel<7.0.0,>=6.7.0->skimpy) (3.0.20)\n",
      "Requirement already satisfied: pickleshare in /Users/miles/opt/anaconda3/lib/python3.9/site-packages (from ipython>=7.23.1->ipykernel<7.0.0,>=6.7.0->skimpy) (0.7.5)\n",
      "Requirement already satisfied: backcall in /Users/miles/opt/anaconda3/lib/python3.9/site-packages (from ipython>=7.23.1->ipykernel<7.0.0,>=6.7.0->skimpy) (0.2.0)\n",
      "Requirement already satisfied: setuptools>=18.5 in /Users/miles/opt/anaconda3/lib/python3.9/site-packages (from ipython>=7.23.1->ipykernel<7.0.0,>=6.7.0->skimpy) (61.2.0)\n",
      "Requirement already satisfied: parso<0.9.0,>=0.8.0 in /Users/miles/opt/anaconda3/lib/python3.9/site-packages (from jedi>=0.16->ipython>=7.23.1->ipykernel<7.0.0,>=6.7.0->skimpy) (0.8.3)\n",
      "Requirement already satisfied: jupyter-console in /Users/miles/opt/anaconda3/lib/python3.9/site-packages (from jupyter<2.0.0,>=1.0.0->skimpy) (6.4.0)\n",
      "Requirement already satisfied: nbconvert in /Users/miles/opt/anaconda3/lib/python3.9/site-packages (from jupyter<2.0.0,>=1.0.0->skimpy) (6.4.4)\n",
      "Requirement already satisfied: qtconsole in /Users/miles/opt/anaconda3/lib/python3.9/site-packages (from jupyter<2.0.0,>=1.0.0->skimpy) (5.3.0)\n",
      "Requirement already satisfied: notebook in /Users/miles/opt/anaconda3/lib/python3.9/site-packages (from jupyter<2.0.0,>=1.0.0->skimpy) (6.4.8)\n",
      "Requirement already satisfied: ipywidgets in /Users/miles/opt/anaconda3/lib/python3.9/site-packages (from jupyter<2.0.0,>=1.0.0->skimpy) (7.6.5)\n",
      "Requirement already satisfied: pyzmq>=13 in /Users/miles/opt/anaconda3/lib/python3.9/site-packages (from jupyter-client<8.0->ipykernel<7.0.0,>=6.7.0->skimpy) (22.3.0)\n",
      "Requirement already satisfied: jupyter-core>=4.6.0 in /Users/miles/opt/anaconda3/lib/python3.9/site-packages (from jupyter-client<8.0->ipykernel<7.0.0,>=6.7.0->skimpy) (4.9.2)\n",
      "Requirement already satisfied: python-dateutil>=2.1 in /Users/miles/opt/anaconda3/lib/python3.9/site-packages (from jupyter-client<8.0->ipykernel<7.0.0,>=6.7.0->skimpy) (2.8.2)\n",
      "Requirement already satisfied: pytz>=2020.1 in /Users/miles/opt/anaconda3/lib/python3.9/site-packages (from pandas<2.0.0,>=1.3.2->skimpy) (2021.3)\n",
      "Requirement already satisfied: ptyprocess>=0.5 in /Users/miles/opt/anaconda3/lib/python3.9/site-packages (from pexpect>4.3->ipython>=7.23.1->ipykernel<7.0.0,>=6.7.0->skimpy) (0.7.0)\n",
      "Requirement already satisfied: wcwidth in /Users/miles/opt/anaconda3/lib/python3.9/site-packages (from prompt-toolkit!=3.0.0,!=3.0.1,<3.1.0,>=2.0.0->ipython>=7.23.1->ipykernel<7.0.0,>=6.7.0->skimpy) (0.2.5)\n",
      "Requirement already satisfied: six>=1.5 in /Users/miles/opt/anaconda3/lib/python3.9/site-packages (from python-dateutil>=2.1->jupyter-client<8.0->ipykernel<7.0.0,>=6.7.0->skimpy) (1.16.0)\n",
      "Collecting commonmark<0.10.0,>=0.9.0\n",
      "  Downloading commonmark-0.9.1-py2.py3-none-any.whl (51 kB)\n",
      "\u001b[K     |████████████████████████████████| 51 kB 6.6 MB/s eta 0:00:01\n",
      "\u001b[?25hRequirement already satisfied: nbformat>=4.2.0 in /Users/miles/opt/anaconda3/lib/python3.9/site-packages (from ipywidgets->jupyter<2.0.0,>=1.0.0->skimpy) (5.3.0)\n",
      "Requirement already satisfied: ipython-genutils~=0.2.0 in /Users/miles/opt/anaconda3/lib/python3.9/site-packages (from ipywidgets->jupyter<2.0.0,>=1.0.0->skimpy) (0.2.0)\n",
      "Requirement already satisfied: widgetsnbextension~=3.5.0 in /Users/miles/opt/anaconda3/lib/python3.9/site-packages (from ipywidgets->jupyter<2.0.0,>=1.0.0->skimpy) (3.5.2)\n",
      "Requirement already satisfied: jupyterlab-widgets>=1.0.0 in /Users/miles/opt/anaconda3/lib/python3.9/site-packages (from ipywidgets->jupyter<2.0.0,>=1.0.0->skimpy) (1.0.0)\n",
      "Requirement already satisfied: jsonschema>=2.6 in /Users/miles/opt/anaconda3/lib/python3.9/site-packages (from nbformat>=4.2.0->ipywidgets->jupyter<2.0.0,>=1.0.0->skimpy) (4.4.0)\n",
      "Requirement already satisfied: fastjsonschema in /Users/miles/opt/anaconda3/lib/python3.9/site-packages (from nbformat>=4.2.0->ipywidgets->jupyter<2.0.0,>=1.0.0->skimpy) (2.15.1)\n",
      "Requirement already satisfied: attrs>=17.4.0 in /Users/miles/opt/anaconda3/lib/python3.9/site-packages (from jsonschema>=2.6->nbformat>=4.2.0->ipywidgets->jupyter<2.0.0,>=1.0.0->skimpy) (21.4.0)\n",
      "Requirement already satisfied: pyrsistent!=0.17.0,!=0.17.1,!=0.17.2,>=0.14.0 in /Users/miles/opt/anaconda3/lib/python3.9/site-packages (from jsonschema>=2.6->nbformat>=4.2.0->ipywidgets->jupyter<2.0.0,>=1.0.0->skimpy) (0.18.0)\n",
      "Requirement already satisfied: argon2-cffi in /Users/miles/opt/anaconda3/lib/python3.9/site-packages (from notebook->jupyter<2.0.0,>=1.0.0->skimpy) (21.3.0)\n",
      "Requirement already satisfied: Send2Trash>=1.8.0 in /Users/miles/opt/anaconda3/lib/python3.9/site-packages (from notebook->jupyter<2.0.0,>=1.0.0->skimpy) (1.8.0)\n",
      "Requirement already satisfied: terminado>=0.8.3 in /Users/miles/opt/anaconda3/lib/python3.9/site-packages (from notebook->jupyter<2.0.0,>=1.0.0->skimpy) (0.13.1)\n",
      "Requirement already satisfied: jinja2 in /Users/miles/opt/anaconda3/lib/python3.9/site-packages (from notebook->jupyter<2.0.0,>=1.0.0->skimpy) (2.11.3)\n",
      "Requirement already satisfied: prometheus-client in /Users/miles/opt/anaconda3/lib/python3.9/site-packages (from notebook->jupyter<2.0.0,>=1.0.0->skimpy) (0.13.1)\n",
      "Requirement already satisfied: argon2-cffi-bindings in /Users/miles/opt/anaconda3/lib/python3.9/site-packages (from argon2-cffi->notebook->jupyter<2.0.0,>=1.0.0->skimpy) (21.2.0)\n",
      "Requirement already satisfied: cffi>=1.0.1 in /Users/miles/opt/anaconda3/lib/python3.9/site-packages (from argon2-cffi-bindings->argon2-cffi->notebook->jupyter<2.0.0,>=1.0.0->skimpy) (1.15.0)\n",
      "Requirement already satisfied: pycparser in /Users/miles/opt/anaconda3/lib/python3.9/site-packages (from cffi>=1.0.1->argon2-cffi-bindings->argon2-cffi->notebook->jupyter<2.0.0,>=1.0.0->skimpy) (2.21)\n",
      "Requirement already satisfied: MarkupSafe>=0.23 in /Users/miles/opt/anaconda3/lib/python3.9/site-packages (from jinja2->notebook->jupyter<2.0.0,>=1.0.0->skimpy) (2.0.1)\n",
      "Requirement already satisfied: defusedxml in /Users/miles/opt/anaconda3/lib/python3.9/site-packages (from nbconvert->jupyter<2.0.0,>=1.0.0->skimpy) (0.7.1)\n",
      "Requirement already satisfied: testpath in /Users/miles/opt/anaconda3/lib/python3.9/site-packages (from nbconvert->jupyter<2.0.0,>=1.0.0->skimpy) (0.5.0)\n",
      "Requirement already satisfied: entrypoints>=0.2.2 in /Users/miles/opt/anaconda3/lib/python3.9/site-packages (from nbconvert->jupyter<2.0.0,>=1.0.0->skimpy) (0.4)\n",
      "Requirement already satisfied: mistune<2,>=0.8.1 in /Users/miles/opt/anaconda3/lib/python3.9/site-packages (from nbconvert->jupyter<2.0.0,>=1.0.0->skimpy) (0.8.4)\n",
      "Requirement already satisfied: beautifulsoup4 in /Users/miles/opt/anaconda3/lib/python3.9/site-packages (from nbconvert->jupyter<2.0.0,>=1.0.0->skimpy) (4.11.1)\n",
      "Requirement already satisfied: pandocfilters>=1.4.1 in /Users/miles/opt/anaconda3/lib/python3.9/site-packages (from nbconvert->jupyter<2.0.0,>=1.0.0->skimpy) (1.5.0)\n",
      "Requirement already satisfied: bleach in /Users/miles/opt/anaconda3/lib/python3.9/site-packages (from nbconvert->jupyter<2.0.0,>=1.0.0->skimpy) (4.1.0)\n",
      "Requirement already satisfied: nbclient<0.6.0,>=0.5.0 in /Users/miles/opt/anaconda3/lib/python3.9/site-packages (from nbconvert->jupyter<2.0.0,>=1.0.0->skimpy) (0.5.13)\n",
      "Requirement already satisfied: jupyterlab-pygments in /Users/miles/opt/anaconda3/lib/python3.9/site-packages (from nbconvert->jupyter<2.0.0,>=1.0.0->skimpy) (0.1.2)\n",
      "Requirement already satisfied: soupsieve>1.2 in /Users/miles/opt/anaconda3/lib/python3.9/site-packages (from beautifulsoup4->nbconvert->jupyter<2.0.0,>=1.0.0->skimpy) (2.3.1)\n",
      "Requirement already satisfied: packaging in /Users/miles/opt/anaconda3/lib/python3.9/site-packages (from bleach->nbconvert->jupyter<2.0.0,>=1.0.0->skimpy) (21.3)\n",
      "Requirement already satisfied: webencodings in /Users/miles/opt/anaconda3/lib/python3.9/site-packages (from bleach->nbconvert->jupyter<2.0.0,>=1.0.0->skimpy) (0.5.1)\n",
      "Requirement already satisfied: pyparsing!=3.0.5,>=2.0.2 in /Users/miles/opt/anaconda3/lib/python3.9/site-packages (from packaging->bleach->nbconvert->jupyter<2.0.0,>=1.0.0->skimpy) (3.0.4)\n",
      "Requirement already satisfied: qtpy>=2.0.1 in /Users/miles/opt/anaconda3/lib/python3.9/site-packages (from qtconsole->jupyter<2.0.0,>=1.0.0->skimpy) (2.0.1)\n",
      "Requirement already satisfied: pure-eval in /Users/miles/opt/anaconda3/lib/python3.9/site-packages (from stack-data->ipython>=7.23.1->ipykernel<7.0.0,>=6.7.0->skimpy) (0.2.2)\n",
      "Requirement already satisfied: asttokens in /Users/miles/opt/anaconda3/lib/python3.9/site-packages (from stack-data->ipython>=7.23.1->ipykernel<7.0.0,>=6.7.0->skimpy) (2.0.5)\n",
      "Requirement already satisfied: executing in /Users/miles/opt/anaconda3/lib/python3.9/site-packages (from stack-data->ipython>=7.23.1->ipykernel<7.0.0,>=6.7.0->skimpy) (0.8.3)\n",
      "Installing collected packages: platformdirs, pathspec, numpy, commonmark, click, typeguard, rich, black, skimpy\n",
      "  Attempting uninstall: pathspec\n",
      "    Found existing installation: pathspec 0.7.0\n",
      "    Uninstalling pathspec-0.7.0:\n",
      "      Successfully uninstalled pathspec-0.7.0\n",
      "  Attempting uninstall: numpy\n",
      "    Found existing installation: numpy 1.21.5\n",
      "    Uninstalling numpy-1.21.5:\n",
      "      Successfully uninstalled numpy-1.21.5\n",
      "  Attempting uninstall: click\n",
      "    Found existing installation: click 8.0.4\n",
      "    Uninstalling click-8.0.4:\n",
      "      Successfully uninstalled click-8.0.4\n",
      "  Attempting uninstall: black\n",
      "    Found existing installation: black 19.10b0\n",
      "    Uninstalling black-19.10b0:\n",
      "      Successfully uninstalled black-19.10b0\n",
      "\u001b[31mERROR: pip's dependency resolver does not currently take into account all the packages that are installed. This behaviour is the source of the following dependency conflicts.\n",
      "daal4py 2021.5.0 requires daal==2021.4.0, which is not installed.\n",
      "scipy 1.7.3 requires numpy<1.23.0,>=1.16.5, but you have numpy 1.23.2 which is incompatible.\n",
      "numba 0.55.1 requires numpy<1.22,>=1.18, but you have numpy 1.23.2 which is incompatible.\u001b[0m\n",
      "Successfully installed black-22.8.0 click-8.1.3 commonmark-0.9.1 numpy-1.23.2 pathspec-0.10.1 platformdirs-2.5.2 rich-12.5.1 skimpy-0.0.6 typeguard-2.13.3\n",
      "Note: you may need to restart the kernel to use updated packages.\n"
     ]
    }
   ],
   "source": [
    "pip install skimpy #installing skimpy"
   ]
  },
  {
   "cell_type": "markdown",
   "metadata": {},
   "source": [
    "3."
   ]
  },
  {
   "cell_type": "code",
   "execution_count": 7,
   "metadata": {},
   "outputs": [
    {
     "data": {
      "text/html": [
       "<div>\n",
       "<style scoped>\n",
       "    .dataframe tbody tr th:only-of-type {\n",
       "        vertical-align: middle;\n",
       "    }\n",
       "\n",
       "    .dataframe tbody tr th {\n",
       "        vertical-align: top;\n",
       "    }\n",
       "\n",
       "    .dataframe thead th {\n",
       "        text-align: right;\n",
       "    }\n",
       "</style>\n",
       "<table border=\"1\" class=\"dataframe\">\n",
       "  <thead>\n",
       "    <tr style=\"text-align: right;\">\n",
       "      <th></th>\n",
       "      <th>District NCES ID</th>\n",
       "      <th>District Name</th>\n",
       "      <th>Week</th>\n",
       "      <th>Learning Modality</th>\n",
       "      <th>Operational Schools</th>\n",
       "      <th>Student Count</th>\n",
       "      <th>City</th>\n",
       "      <th>State</th>\n",
       "      <th>ZIP Code</th>\n",
       "    </tr>\n",
       "  </thead>\n",
       "  <tbody>\n",
       "    <tr>\n",
       "      <th>0</th>\n",
       "      <td>100005</td>\n",
       "      <td>Albertville City</td>\n",
       "      <td>08/28/2022 12:00:00 AM</td>\n",
       "      <td>In Person</td>\n",
       "      <td>6</td>\n",
       "      <td>5824.0</td>\n",
       "      <td>Albertville</td>\n",
       "      <td>AL</td>\n",
       "      <td>35950</td>\n",
       "    </tr>\n",
       "    <tr>\n",
       "      <th>1</th>\n",
       "      <td>100006</td>\n",
       "      <td>Marshall County</td>\n",
       "      <td>08/28/2022 12:00:00 AM</td>\n",
       "      <td>In Person</td>\n",
       "      <td>15</td>\n",
       "      <td>5764.0</td>\n",
       "      <td>Guntersville</td>\n",
       "      <td>AL</td>\n",
       "      <td>35976</td>\n",
       "    </tr>\n",
       "    <tr>\n",
       "      <th>2</th>\n",
       "      <td>100007</td>\n",
       "      <td>Hoover City</td>\n",
       "      <td>08/28/2022 12:00:00 AM</td>\n",
       "      <td>In Person</td>\n",
       "      <td>18</td>\n",
       "      <td>14061.0</td>\n",
       "      <td>Hoover</td>\n",
       "      <td>AL</td>\n",
       "      <td>35243</td>\n",
       "    </tr>\n",
       "    <tr>\n",
       "      <th>3</th>\n",
       "      <td>100008</td>\n",
       "      <td>Madison City</td>\n",
       "      <td>08/28/2022 12:00:00 AM</td>\n",
       "      <td>In Person</td>\n",
       "      <td>11</td>\n",
       "      <td>11695.0</td>\n",
       "      <td>Madison</td>\n",
       "      <td>AL</td>\n",
       "      <td>35758</td>\n",
       "    </tr>\n",
       "    <tr>\n",
       "      <th>4</th>\n",
       "      <td>100011</td>\n",
       "      <td>Leeds City</td>\n",
       "      <td>08/28/2022 12:00:00 AM</td>\n",
       "      <td>In Person</td>\n",
       "      <td>4</td>\n",
       "      <td>2076.0</td>\n",
       "      <td>Leeds</td>\n",
       "      <td>AL</td>\n",
       "      <td>35094</td>\n",
       "    </tr>\n",
       "    <tr>\n",
       "      <th>...</th>\n",
       "      <td>...</td>\n",
       "      <td>...</td>\n",
       "      <td>...</td>\n",
       "      <td>...</td>\n",
       "      <td>...</td>\n",
       "      <td>...</td>\n",
       "      <td>...</td>\n",
       "      <td>...</td>\n",
       "      <td>...</td>\n",
       "    </tr>\n",
       "    <tr>\n",
       "      <th>781143</th>\n",
       "      <td>5900187</td>\n",
       "      <td>Hannahville Indian School</td>\n",
       "      <td>08/01/2021 12:00:00 AM</td>\n",
       "      <td>In Person</td>\n",
       "      <td>1</td>\n",
       "      <td>163.0</td>\n",
       "      <td>Wilson</td>\n",
       "      <td>BI</td>\n",
       "      <td>49896</td>\n",
       "    </tr>\n",
       "    <tr>\n",
       "      <th>781144</th>\n",
       "      <td>5900190</td>\n",
       "      <td>Tiospaye Topa School</td>\n",
       "      <td>08/01/2021 12:00:00 AM</td>\n",
       "      <td>In Person</td>\n",
       "      <td>1</td>\n",
       "      <td>157.0</td>\n",
       "      <td>LaPlant</td>\n",
       "      <td>BI</td>\n",
       "      <td>57652</td>\n",
       "    </tr>\n",
       "    <tr>\n",
       "      <th>781145</th>\n",
       "      <td>5900193</td>\n",
       "      <td>Seba Dalkai Boarding School</td>\n",
       "      <td>08/01/2021 12:00:00 AM</td>\n",
       "      <td>Hybrid</td>\n",
       "      <td>1</td>\n",
       "      <td>65.0</td>\n",
       "      <td>Winslow</td>\n",
       "      <td>BI</td>\n",
       "      <td>86047</td>\n",
       "    </tr>\n",
       "    <tr>\n",
       "      <th>781146</th>\n",
       "      <td>5900197</td>\n",
       "      <td>Noli School</td>\n",
       "      <td>08/01/2021 12:00:00 AM</td>\n",
       "      <td>In Person</td>\n",
       "      <td>1</td>\n",
       "      <td>123.0</td>\n",
       "      <td>San Jacinto</td>\n",
       "      <td>BI</td>\n",
       "      <td>92581</td>\n",
       "    </tr>\n",
       "    <tr>\n",
       "      <th>781147</th>\n",
       "      <td>7200030</td>\n",
       "      <td>PUERTO RICO DEPARTMENT OF EDUCATION</td>\n",
       "      <td>08/01/2021 12:00:00 AM</td>\n",
       "      <td>In Person</td>\n",
       "      <td>849</td>\n",
       "      <td>292518.0</td>\n",
       "      <td>HATO REY</td>\n",
       "      <td>PR</td>\n",
       "      <td>919</td>\n",
       "    </tr>\n",
       "  </tbody>\n",
       "</table>\n",
       "<p>781148 rows × 9 columns</p>\n",
       "</div>"
      ],
      "text/plain": [
       "        District NCES ID                        District Name  \\\n",
       "0                 100005                     Albertville City   \n",
       "1                 100006                      Marshall County   \n",
       "2                 100007                          Hoover City   \n",
       "3                 100008                         Madison City   \n",
       "4                 100011                           Leeds City   \n",
       "...                  ...                                  ...   \n",
       "781143           5900187            Hannahville Indian School   \n",
       "781144           5900190                 Tiospaye Topa School   \n",
       "781145           5900193          Seba Dalkai Boarding School   \n",
       "781146           5900197                          Noli School   \n",
       "781147           7200030  PUERTO RICO DEPARTMENT OF EDUCATION   \n",
       "\n",
       "                          Week Learning Modality  Operational Schools  \\\n",
       "0       08/28/2022 12:00:00 AM         In Person                    6   \n",
       "1       08/28/2022 12:00:00 AM         In Person                   15   \n",
       "2       08/28/2022 12:00:00 AM         In Person                   18   \n",
       "3       08/28/2022 12:00:00 AM         In Person                   11   \n",
       "4       08/28/2022 12:00:00 AM         In Person                    4   \n",
       "...                        ...               ...                  ...   \n",
       "781143  08/01/2021 12:00:00 AM         In Person                    1   \n",
       "781144  08/01/2021 12:00:00 AM         In Person                    1   \n",
       "781145  08/01/2021 12:00:00 AM            Hybrid                    1   \n",
       "781146  08/01/2021 12:00:00 AM         In Person                    1   \n",
       "781147  08/01/2021 12:00:00 AM         In Person                  849   \n",
       "\n",
       "        Student Count          City State  ZIP Code  \n",
       "0              5824.0   Albertville    AL     35950  \n",
       "1              5764.0  Guntersville    AL     35976  \n",
       "2             14061.0        Hoover    AL     35243  \n",
       "3             11695.0       Madison    AL     35758  \n",
       "4              2076.0         Leeds    AL     35094  \n",
       "...               ...           ...   ...       ...  \n",
       "781143          163.0        Wilson    BI     49896  \n",
       "781144          157.0       LaPlant    BI     57652  \n",
       "781145           65.0       Winslow    BI     86047  \n",
       "781146          123.0   San Jacinto    BI     92581  \n",
       "781147       292518.0      HATO REY    PR       919  \n",
       "\n",
       "[781148 rows x 9 columns]"
      ]
     },
     "execution_count": 7,
     "metadata": {},
     "output_type": "execute_result"
    }
   ],
   "source": [
    "slm #printing our data set for visual use"
   ]
  },
  {
   "cell_type": "markdown",
   "metadata": {},
   "source": [
    "2."
   ]
  },
  {
   "cell_type": "code",
   "execution_count": 8,
   "metadata": {},
   "outputs": [
    {
     "data": {
      "text/plain": [
       "(781148, 9)"
      ]
     },
     "execution_count": 8,
     "metadata": {},
     "output_type": "execute_result"
    }
   ],
   "source": [
    "slm.shape #rows,colums"
   ]
  },
  {
   "cell_type": "markdown",
   "metadata": {},
   "source": [
    "4-6"
   ]
  },
  {
   "cell_type": "code",
   "execution_count": 9,
   "metadata": {},
   "outputs": [
    {
     "data": {
      "text/plain": [
       "Index(['District NCES ID', 'District Name', 'Week', 'Learning Modality',\n",
       "       'Operational Schools', 'Student Count', 'City', 'State', 'ZIP Code'],\n",
       "      dtype='object')"
      ]
     },
     "execution_count": 9,
     "metadata": {},
     "output_type": "execute_result"
    }
   ],
   "source": [
    "slm.columns #prints out all of the columns included in the dataset"
   ]
  },
  {
   "cell_type": "code",
   "execution_count": 17,
   "metadata": {},
   "outputs": [
    {
     "data": {
      "text/html": [
       "<pre style=\"white-space:pre;overflow-x:auto;line-height:normal;font-family:Menlo,'DejaVu Sans Mono',consolas,'Courier New',monospace\"><span style=\"color: #008080; text-decoration-color: #008080; font-weight: bold\">6</span> column names have been cleaned\n",
       "</pre>\n"
      ],
      "text/plain": [
       "\u001b[1;36m6\u001b[0m column names have been cleaned\n"
      ]
     },
     "metadata": {},
     "output_type": "display_data"
    },
    {
     "data": {
      "text/plain": [
       "['DistrictNcesId',\n",
       " 'DistrictName',\n",
       " 'Week',\n",
       " 'LearningModality',\n",
       " 'OperationalSchools',\n",
       " 'StudentCount',\n",
       " 'City',\n",
       " 'State',\n",
       " 'ZipCode']"
      ]
     },
     "execution_count": 17,
     "metadata": {},
     "output_type": "execute_result"
    }
   ],
   "source": [
    "cc_slm = clean_columns(slm, case='pascal') #labeling a clean columns list cc_slm/utilizing \"pascal\" case to clean data\n",
    "cc_slm.columns.tolist() #printing a clean columns list"
   ]
  },
  {
   "cell_type": "markdown",
   "metadata": {},
   "source": [
    "7"
   ]
  },
  {
   "cell_type": "code",
   "execution_count": 32,
   "metadata": {},
   "outputs": [
    {
     "data": {
      "text/plain": [
       "District NCES ID         int64\n",
       "District Name           object\n",
       "Week                    object\n",
       "Learning Modality       object\n",
       "Operational Schools      int64\n",
       "Student Count          float64\n",
       "City                    object\n",
       "State                   object\n",
       "ZIP Code                 int64\n",
       "dtype: object"
      ]
     },
     "execution_count": 32,
     "metadata": {},
     "output_type": "execute_result"
    }
   ],
   "source": [
    "slm.dtypes #printing a list of the columns and their data types"
   ]
  },
  {
   "cell_type": "code",
   "execution_count": 39,
   "metadata": {},
   "outputs": [
    {
     "data": {
      "text/plain": [
       "0           5824.0\n",
       "1           5764.0\n",
       "2          14061.0\n",
       "3          11695.0\n",
       "4           2076.0\n",
       "            ...   \n",
       "781143       163.0\n",
       "781144       157.0\n",
       "781145        65.0\n",
       "781146       123.0\n",
       "781147    292518.0\n",
       "Name: Student Count, Length: 781148, dtype: float64"
      ]
     },
     "execution_count": 39,
     "metadata": {},
     "output_type": "execute_result"
    }
   ],
   "source": [
    "slm\n",
    "pd.to_datetime(slm['Week']) #using pandas function \"to_blank\" to convert the data types to our liking \n",
    "pd.to_numeric(slm['Student Count'])\n"
   ]
  },
  {
   "cell_type": "markdown",
   "metadata": {},
   "source": [
    "8."
   ]
  },
  {
   "cell_type": "code",
   "execution_count": 81,
   "metadata": {},
   "outputs": [
    {
     "name": "stdout",
     "output_type": "stream",
     "text": [
      "Empty DataFrame\n",
      "Columns: [District NCES ID, District Name, Week, Learning Modality, Operational Schools, Student Count, City, State, ZIP Code, mip]\n",
      "Index: []\n"
     ]
    }
   ],
   "source": [
    "duplicates = slm[slm.duplicated(keep = 'first')] #label function as duplicates\n",
    "print(duplicates)"
   ]
  },
  {
   "cell_type": "markdown",
   "metadata": {},
   "source": [
    "9."
   ]
  },
  {
   "cell_type": "code",
   "execution_count": 72,
   "metadata": {},
   "outputs": [
    {
     "data": {
      "text/plain": [
       "District NCES ID         0\n",
       "District Name            0\n",
       "Week                     0\n",
       "Learning Modality        0\n",
       "Operational Schools      0\n",
       "Student Count          718\n",
       "City                     0\n",
       "State                    0\n",
       "ZIP Code                 0\n",
       "dtype: int64"
      ]
     },
     "execution_count": 72,
     "metadata": {},
     "output_type": "execute_result"
    }
   ],
   "source": [
    "null = slm.isnull() #labeling function as null. Function pulls out all rows that are empty\n",
    "null.sum() #Printing the sum of all null areas"
   ]
  },
  {
   "cell_type": "markdown",
   "metadata": {},
   "source": [
    "10."
   ]
  },
  {
   "cell_type": "code",
   "execution_count": 78,
   "metadata": {},
   "outputs": [
    {
     "ename": "KeyError",
     "evalue": "'Learning_Modality'",
     "output_type": "error",
     "traceback": [
      "\u001b[0;31m---------------------------------------------------------------------------\u001b[0m",
      "\u001b[0;31mKeyError\u001b[0m                                  Traceback (most recent call last)",
      "File \u001b[0;32m~/opt/anaconda3/lib/python3.9/site-packages/pandas/core/indexes/base.py:3621\u001b[0m, in \u001b[0;36mIndex.get_loc\u001b[0;34m(self, key, method, tolerance)\u001b[0m\n\u001b[1;32m   <a href='file:///Users/miles/opt/anaconda3/lib/python3.9/site-packages/pandas/core/indexes/base.py?line=3619'>3620</a>\u001b[0m \u001b[39mtry\u001b[39;00m:\n\u001b[0;32m-> <a href='file:///Users/miles/opt/anaconda3/lib/python3.9/site-packages/pandas/core/indexes/base.py?line=3620'>3621</a>\u001b[0m     \u001b[39mreturn\u001b[39;00m \u001b[39mself\u001b[39;49m\u001b[39m.\u001b[39;49m_engine\u001b[39m.\u001b[39;49mget_loc(casted_key)\n\u001b[1;32m   <a href='file:///Users/miles/opt/anaconda3/lib/python3.9/site-packages/pandas/core/indexes/base.py?line=3621'>3622</a>\u001b[0m \u001b[39mexcept\u001b[39;00m \u001b[39mKeyError\u001b[39;00m \u001b[39mas\u001b[39;00m err:\n",
      "File \u001b[0;32m~/opt/anaconda3/lib/python3.9/site-packages/pandas/_libs/index.pyx:136\u001b[0m, in \u001b[0;36mpandas._libs.index.IndexEngine.get_loc\u001b[0;34m()\u001b[0m\n",
      "File \u001b[0;32m~/opt/anaconda3/lib/python3.9/site-packages/pandas/_libs/index.pyx:163\u001b[0m, in \u001b[0;36mpandas._libs.index.IndexEngine.get_loc\u001b[0;34m()\u001b[0m\n",
      "File \u001b[0;32mpandas/_libs/hashtable_class_helper.pxi:5198\u001b[0m, in \u001b[0;36mpandas._libs.hashtable.PyObjectHashTable.get_item\u001b[0;34m()\u001b[0m\n",
      "File \u001b[0;32mpandas/_libs/hashtable_class_helper.pxi:5206\u001b[0m, in \u001b[0;36mpandas._libs.hashtable.PyObjectHashTable.get_item\u001b[0;34m()\u001b[0m\n",
      "\u001b[0;31mKeyError\u001b[0m: 'Learning_Modality'",
      "\nThe above exception was the direct cause of the following exception:\n",
      "\u001b[0;31mKeyError\u001b[0m                                  Traceback (most recent call last)",
      "\u001b[1;32m/Users/miles/HHA-DATA-CLEANING/datacleaning.ipynb Cell 21'\u001b[0m in \u001b[0;36m<cell line: 1>\u001b[0;34m()\u001b[0m\n\u001b[0;32m----> <a href='vscode-notebook-cell:/Users/miles/HHA-DATA-CLEANING/datacleaning.ipynb#ch0000022?line=0'>1</a>\u001b[0m slm[\u001b[39m'\u001b[39m\u001b[39mmip\u001b[39m\u001b[39m'\u001b[39m] \u001b[39m=\u001b[39m np\u001b[39m.\u001b[39mwhere(slm[\u001b[39m\"\u001b[39;49m\u001b[39mLearning_Modality\u001b[39;49m\u001b[39m\"\u001b[39;49m] \u001b[39m==\u001b[39m \u001b[39m'\u001b[39m\u001b[39min person\u001b[39m\u001b[39m'\u001b[39m, \u001b[39mTrue\u001b[39;00m, \u001b[39mFalse\u001b[39;00m)\n",
      "File \u001b[0;32m~/opt/anaconda3/lib/python3.9/site-packages/pandas/core/frame.py:3505\u001b[0m, in \u001b[0;36mDataFrame.__getitem__\u001b[0;34m(self, key)\u001b[0m\n\u001b[1;32m   <a href='file:///Users/miles/opt/anaconda3/lib/python3.9/site-packages/pandas/core/frame.py?line=3502'>3503</a>\u001b[0m \u001b[39mif\u001b[39;00m \u001b[39mself\u001b[39m\u001b[39m.\u001b[39mcolumns\u001b[39m.\u001b[39mnlevels \u001b[39m>\u001b[39m \u001b[39m1\u001b[39m:\n\u001b[1;32m   <a href='file:///Users/miles/opt/anaconda3/lib/python3.9/site-packages/pandas/core/frame.py?line=3503'>3504</a>\u001b[0m     \u001b[39mreturn\u001b[39;00m \u001b[39mself\u001b[39m\u001b[39m.\u001b[39m_getitem_multilevel(key)\n\u001b[0;32m-> <a href='file:///Users/miles/opt/anaconda3/lib/python3.9/site-packages/pandas/core/frame.py?line=3504'>3505</a>\u001b[0m indexer \u001b[39m=\u001b[39m \u001b[39mself\u001b[39;49m\u001b[39m.\u001b[39;49mcolumns\u001b[39m.\u001b[39;49mget_loc(key)\n\u001b[1;32m   <a href='file:///Users/miles/opt/anaconda3/lib/python3.9/site-packages/pandas/core/frame.py?line=3505'>3506</a>\u001b[0m \u001b[39mif\u001b[39;00m is_integer(indexer):\n\u001b[1;32m   <a href='file:///Users/miles/opt/anaconda3/lib/python3.9/site-packages/pandas/core/frame.py?line=3506'>3507</a>\u001b[0m     indexer \u001b[39m=\u001b[39m [indexer]\n",
      "File \u001b[0;32m~/opt/anaconda3/lib/python3.9/site-packages/pandas/core/indexes/base.py:3623\u001b[0m, in \u001b[0;36mIndex.get_loc\u001b[0;34m(self, key, method, tolerance)\u001b[0m\n\u001b[1;32m   <a href='file:///Users/miles/opt/anaconda3/lib/python3.9/site-packages/pandas/core/indexes/base.py?line=3620'>3621</a>\u001b[0m     \u001b[39mreturn\u001b[39;00m \u001b[39mself\u001b[39m\u001b[39m.\u001b[39m_engine\u001b[39m.\u001b[39mget_loc(casted_key)\n\u001b[1;32m   <a href='file:///Users/miles/opt/anaconda3/lib/python3.9/site-packages/pandas/core/indexes/base.py?line=3621'>3622</a>\u001b[0m \u001b[39mexcept\u001b[39;00m \u001b[39mKeyError\u001b[39;00m \u001b[39mas\u001b[39;00m err:\n\u001b[0;32m-> <a href='file:///Users/miles/opt/anaconda3/lib/python3.9/site-packages/pandas/core/indexes/base.py?line=3622'>3623</a>\u001b[0m     \u001b[39mraise\u001b[39;00m \u001b[39mKeyError\u001b[39;00m(key) \u001b[39mfrom\u001b[39;00m \u001b[39merr\u001b[39;00m\n\u001b[1;32m   <a href='file:///Users/miles/opt/anaconda3/lib/python3.9/site-packages/pandas/core/indexes/base.py?line=3623'>3624</a>\u001b[0m \u001b[39mexcept\u001b[39;00m \u001b[39mTypeError\u001b[39;00m:\n\u001b[1;32m   <a href='file:///Users/miles/opt/anaconda3/lib/python3.9/site-packages/pandas/core/indexes/base.py?line=3624'>3625</a>\u001b[0m     \u001b[39m# If we have a listlike key, _check_indexing_error will raise\u001b[39;00m\n\u001b[1;32m   <a href='file:///Users/miles/opt/anaconda3/lib/python3.9/site-packages/pandas/core/indexes/base.py?line=3625'>3626</a>\u001b[0m     \u001b[39m#  InvalidIndexError. Otherwise we fall through and re-raise\u001b[39;00m\n\u001b[1;32m   <a href='file:///Users/miles/opt/anaconda3/lib/python3.9/site-packages/pandas/core/indexes/base.py?line=3626'>3627</a>\u001b[0m     \u001b[39m#  the TypeError.\u001b[39;00m\n\u001b[1;32m   <a href='file:///Users/miles/opt/anaconda3/lib/python3.9/site-packages/pandas/core/indexes/base.py?line=3627'>3628</a>\u001b[0m     \u001b[39mself\u001b[39m\u001b[39m.\u001b[39m_check_indexing_error(key)\n",
      "\u001b[0;31mKeyError\u001b[0m: 'Learning_Modality'"
     ]
    }
   ],
   "source": [
    "slm['mip'] = np.where(slm[\"Learning_Modality\"] == 'in person', True, False)\n"
   ]
  }
 ],
 "metadata": {
  "interpreter": {
   "hash": "b5591d4b5c4fc051220937d37017034defc58efa2671f066bd82f1fad4b6a3e3"
  },
  "kernelspec": {
   "display_name": "Python 3.9.12 ('base')",
   "language": "python",
   "name": "python3"
  },
  "language_info": {
   "codemirror_mode": {
    "name": "ipython",
    "version": 3
   },
   "file_extension": ".py",
   "mimetype": "text/x-python",
   "name": "python",
   "nbconvert_exporter": "python",
   "pygments_lexer": "ipython3",
   "version": "3.9.12"
  },
  "orig_nbformat": 4
 },
 "nbformat": 4,
 "nbformat_minor": 2
}
